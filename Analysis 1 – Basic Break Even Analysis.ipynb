{
 "cells": [
  {
   "cell_type": "code",
   "execution_count": 76,
   "id": "d98e1431",
   "metadata": {},
   "outputs": [],
   "source": [
    "import this\n",
    "import copy\n",
    "\n",
    "import numpy as np\n",
    "import pandas as pd\n",
    "import matplotlib.pyplot as plt\n",
    "from mpl_toolkits.mplot3d import Axes3D\n",
    "import seaborn as sns\n",
    "\n",
    "from numpy.random import default_rng\n",
    "\n",
    "%matplotlib inline"
   ]
  },
  {
   "cell_type": "markdown",
   "id": "fe9014d1",
   "metadata": {},
   "source": [
    "## 1a – Base Model)\n",
    "\n",
    "Create a Python based model to that relates profit to the inputs. It must be an object oriented model. Since I’m going to ask you to create some data tables and to do some goal seeking, the structure of your model should be roughly similar to the BookstoreModel we did in the course notes. Obviously, the details will be different as it’s a different problem. Here’s a “check value” – for Selling Price=$115 you should get \"Demand≈1668 \" and Profit=$20028 Don’t worry about getting fractional demand values – it’s fine for this model. Here’s a screenshot of my model class declaration:"
   ]
  },
  {
   "cell_type": "code",
   "execution_count": 41,
   "id": "b0efafa2",
   "metadata": {},
   "outputs": [],
   "source": [
    "class SingleProductSPF(Model):\n",
    "    \n",
    "    def __init__(self, \n",
    "                 fixed_cost = 5000,\n",
    "                 variable_cost = 100, \n",
    "                 selling_price = 115, \n",
    "                 spf_constant = 4900,\n",
    "                 spf_linear = -35,\n",
    "                 spf_quadratic = 0.06):\n",
    "        \n",
    "        self.fixed_cost = fixed_cost\n",
    "        self.variable_cost = variable_cost\n",
    "        self.selling_price = selling_price\n",
    "        self.spf_constant = spf_constant\n",
    "        self.spf_linear = spf_linear\n",
    "        self.spf_quadratic = spf_quadratic\n",
    "  \n",
    "     \n",
    "    def demand(self):\n",
    "        \"\"\"\"D\"=0.06S^2-35S+4900\"\"\"\n",
    "        return ((self.spf_quadratic * self.selling_price ** 2) + (self.spf_linear * self.selling_price) + self.spf_constant)\n",
    "\n",
    "    def revenue(self):\n",
    "        \"\"\"\"revenue = demand * selling price\"\"\"\n",
    "        return self.demand() * self.selling_price\n",
    "\n",
    "    def total_cost(self):\n",
    "        \"\"\"\"total_cost =  fixed_cost + (variable_cost * demand)\"\"\"\n",
    "        return self.fixed_cost + self.demand() * self.variable_cost\n",
    "    \n",
    "    def profit(self):\n",
    "        '''\n",
    "        Compute profit        \n",
    "        profit = revenue - \n",
    "        '''\n",
    "        return self.revenue() - self.total_cost()"
   ]
  },
  {
   "cell_type": "code",
   "execution_count": 42,
   "id": "f80e7657",
   "metadata": {},
   "outputs": [],
   "source": [
    "base_model = SingleProductSPF()\n"
   ]
  },
  {
   "cell_type": "code",
   "execution_count": 43,
   "id": "007b5433",
   "metadata": {},
   "outputs": [
    {
     "data": {
      "text/plain": [
       "1668.5"
      ]
     },
     "execution_count": 43,
     "metadata": {},
     "output_type": "execute_result"
    }
   ],
   "source": [
    "base_model.demand()"
   ]
  },
  {
   "cell_type": "code",
   "execution_count": 44,
   "id": "03e4f364",
   "metadata": {},
   "outputs": [
    {
     "data": {
      "text/plain": [
       "20027.5"
      ]
     },
     "execution_count": 44,
     "metadata": {},
     "output_type": "execute_result"
    }
   ],
   "source": [
    "base_model.profit()"
   ]
  },
  {
   "cell_type": "markdown",
   "id": "4e331bec",
   "metadata": {},
   "source": [
    "## 1b – 1-way Data Table)\n",
    "\n",
    "Once your base model is done, create a one-way data table using our data_table function to show how profit and demand are related to selling price. Profit and demand are the outputs and selling price is the input. Let price range from $80 to $140 in steps of $10. In addition, create a graph based on your data table object so that it is easy to visualize the relationship between selling price and profit. Make sure your graph has all axes labeled, has titles, has axes properly formatted, and looks good. Discuss the shape of this relationship. Is it linear? Is it nonlinear? Why do you think the graph has the shape it does?"
   ]
  },
  {
   "cell_type": "code",
   "execution_count": 45,
   "id": "6e727bd8",
   "metadata": {},
   "outputs": [
    {
     "data": {
      "text/plain": [
       "array([ 80,  90, 100, 110, 120, 130, 140])"
      ]
     },
     "execution_count": 45,
     "metadata": {},
     "output_type": "execute_result"
    }
   ],
   "source": [
    "selling_price = np.arange(80, 141, 10)\n",
    "selling_price"
   ]
  },
  {
   "cell_type": "code",
   "execution_count": 48,
   "id": "f864edb8",
   "metadata": {},
   "outputs": [
    {
     "name": "stdout",
     "output_type": "stream",
     "text": [
      "[-54680. -27360.  -5000.  12760.  26280.  35920.  42040.]\n",
      "[2484. 2236. 2000. 1776. 1564. 1364. 1176.]\n"
     ]
    }
   ],
   "source": [
    "base_model.selling_price = selling_price\n",
    "profit = base_model.profit()\n",
    "demand = base_model.demand()\n",
    "\n",
    "print(profit)\n",
    "print(demand)"
   ]
  },
  {
   "cell_type": "code",
   "execution_count": 49,
   "id": "64a9ea09",
   "metadata": {},
   "outputs": [
    {
     "data": {
      "image/png": "[encoded data removed]",
      "text/plain": [
       "<Figure size 576x432 with 2 Axes>"
      ]
     },
     "metadata": {
      "needs_background": "light"
     },
     "output_type": "display_data"
    }
   ],
   "source": [
    "fig = plt.figure(figsize=(8,6))\n",
    "ax1 = fig.add_subplot()\n",
    "ax2 = ax1.twinx()\n",
    "ax1.set_ylabel(\"Profit\")\n",
    "ax2.set_ylabel(\"Demand\")\n",
    "ax1.set_xlabel(\"Selling Price\")\n",
    "ax1.plot(selling_price, profit, color = 'red', label = 'Profit')\n",
    "ax2.plot(selling_price, demand, color = 'blue', label = 'Demand')\n",
    "fig.autofmt_xdate()\n",
    "\n",
    "ax1.legend()\n",
    "ax2.legend(loc = 'upper right')\n",
    "plt.title(\"Selling Price vs Profit, Demand\")\n",
    "plt.show()"
   ]
  },
  {
   "cell_type": "raw",
   "id": "ca7fe3b6",
   "metadata": {},
   "source": [
    "Based on the above graph, \n",
    "    * as price increases the demand for the product will decrease\n",
    "    * as price increases the profit will also increase. There is linear realationship between these 2 variables."
   ]
  },
  {
   "cell_type": "markdown",
   "id": "438e33d4",
   "metadata": {},
   "source": [
    "## 1c – Break Even)\n",
    "\n",
    "Use our goal_seek function to find the break even selling price between $80 and $140. "
   ]
  },
  {
   "cell_type": "code",
   "execution_count": 50,
   "id": "6ff8228b",
   "metadata": {},
   "outputs": [],
   "source": [
    "from whatif import Model\n",
    "from whatif import get_sim_results_df\n",
    "\n",
    "import whatif"
   ]
  },
  {
   "cell_type": "code",
   "execution_count": 51,
   "id": "7f0ae253",
   "metadata": {},
   "outputs": [
    {
     "data": {
      "text/plain": [
       "102.57578606424767"
      ]
     },
     "execution_count": 51,
     "metadata": {},
     "output_type": "execute_result"
    }
   ],
   "source": [
    "Model.goal_seek(base_model,'profit',0,'selling_price',80,140)"
   ]
  },
  {
   "cell_type": "markdown",
   "id": "5d9b50b1",
   "metadata": {},
   "source": [
    "Based on our output and our plot above the breakeven point is at 102.5"
   ]
  },
  {
   "cell_type": "markdown",
   "id": "421705bf",
   "metadata": {},
   "source": [
    "## 1d – 2-way Data Table) \n",
    "\n",
    "You are also interested in the sensitivity of profit AND total cost to different combinations of selling price and the variable production cost. So, create a 2-way data table using data_table  for these two input variables. Let price range from dollar 80 to dollar 140 in steps of dollar 10 and let the variable production cost vary from dollar 85 to dollar 110 in steps of dollar 5. Figure out a way to create a plot based on the 2-way data table so that the user can visualize how price and variable production cost impact profit."
   ]
  },
  {
   "cell_type": "code",
   "execution_count": 53,
   "id": "2dbe6d7f",
   "metadata": {},
   "outputs": [
    {
     "data": {
      "text/html": [
       "<div>\n",
       "<style scoped>\n",
       "    .dataframe tbody tr th:only-of-type {\n",
       "        vertical-align: middle;\n",
       "    }\n",
       "\n",
       "    .dataframe tbody tr th {\n",
       "        vertical-align: top;\n",
       "    }\n",
       "\n",
       "    .dataframe thead th {\n",
       "        text-align: right;\n",
       "    }\n",
       "</style>\n",
       "<table border=\"1\" class=\"dataframe\">\n",
       "  <thead>\n",
       "    <tr style=\"text-align: right;\">\n",
       "      <th></th>\n",
       "      <th>selling_price</th>\n",
       "      <th>variable_cost</th>\n",
       "      <th>profit</th>\n",
       "      <th>total_cost</th>\n",
       "    </tr>\n",
       "  </thead>\n",
       "  <tbody>\n",
       "    <tr>\n",
       "      <th>0</th>\n",
       "      <td>80</td>\n",
       "      <td>85</td>\n",
       "      <td>-17420.0</td>\n",
       "      <td>216140.0</td>\n",
       "    </tr>\n",
       "    <tr>\n",
       "      <th>1</th>\n",
       "      <td>80</td>\n",
       "      <td>90</td>\n",
       "      <td>-29840.0</td>\n",
       "      <td>228560.0</td>\n",
       "    </tr>\n",
       "    <tr>\n",
       "      <th>2</th>\n",
       "      <td>80</td>\n",
       "      <td>95</td>\n",
       "      <td>-42260.0</td>\n",
       "      <td>240980.0</td>\n",
       "    </tr>\n",
       "    <tr>\n",
       "      <th>3</th>\n",
       "      <td>80</td>\n",
       "      <td>100</td>\n",
       "      <td>-54680.0</td>\n",
       "      <td>253400.0</td>\n",
       "    </tr>\n",
       "    <tr>\n",
       "      <th>4</th>\n",
       "      <td>80</td>\n",
       "      <td>105</td>\n",
       "      <td>-67100.0</td>\n",
       "      <td>265820.0</td>\n",
       "    </tr>\n",
       "  </tbody>\n",
       "</table>\n",
       "</div>"
      ],
      "text/plain": [
       "   selling_price  variable_cost   profit  total_cost\n",
       "0             80             85 -17420.0    216140.0\n",
       "1             80             90 -29840.0    228560.0\n",
       "2             80             95 -42260.0    240980.0\n",
       "3             80            100 -54680.0    253400.0\n",
       "4             80            105 -67100.0    265820.0"
      ]
     },
     "execution_count": 53,
     "metadata": {},
     "output_type": "execute_result"
    }
   ],
   "source": [
    "dt_param_ranges_2 = {'selling_price': np.arange(80, 141, 10),\n",
    "                     'variable_cost': np.arange(85, 111, 5)}\n",
    "\n",
    "# Specify desired outputs (list)\n",
    "outputs = ['profit', 'total_cost']\n",
    "\n",
    "#model_trial = whatif.Model()\n",
    "\n",
    "\n",
    "df_2_way = base_model.data_table(dt_param_ranges_2, outputs)\n",
    "df_2_way.head()"
   ]
  },
  {
   "cell_type": "markdown",
   "id": "ab3f061e",
   "metadata": {},
   "source": [
    "# plot \n"
   ]
  },
  {
   "cell_type": "code",
   "execution_count": 57,
   "id": "e9d4f066",
   "metadata": {},
   "outputs": [
    {
     "data": {
      "image/png": "[encoded data removed]",
      "text/plain": [
       "<Figure size 648x648 with 7 Axes>"
      ]
     },
     "metadata": {
      "needs_background": "light"
     },
     "output_type": "display_data"
    }
   ],
   "source": [
    "profit_dt_g = sns.FacetGrid(df_2_way, col=\"selling_price\", sharey=True, col_wrap=3)\n",
    "profit_dt_g = profit_dt_g.map(plt.plot, \"total_cost\", \"profit\")"
   ]
  },
  {
   "cell_type": "markdown",
   "id": "9ef0b5d2",
   "metadata": {},
   "source": [
    "# 1e – Digging deeper) \n",
    "\n",
    "Now let’s explore this simple model a little bit further. Please do the following:\n",
    "\n",
    "•\tRedo the Goal Seek but instead of using $80-$140 as your search range, use $80-$250. What happens? Why do you think this happens?\n",
    "•\tRedo your 1-way data table and associated selling price vs profit plot but use $80-$250 as your input range. Now, why do you think that your Goal Seek failed?\n"
   ]
  },
  {
   "cell_type": "code",
   "execution_count": 23,
   "id": "042c0655",
   "metadata": {},
   "outputs": [],
   "source": [
    "Model.goal_seek(base_model,'profit',0,'selling_price',80,250)"
   ]
  },
  {
   "cell_type": "markdown",
   "id": "a377bced",
   "metadata": {},
   "source": [
    "Goal seek doesnt product any output.\n",
    " \n",
    "Why?????\n",
    "\n"
   ]
  },
  {
   "cell_type": "code",
   "execution_count": 59,
   "id": "332a4c69",
   "metadata": {},
   "outputs": [
    {
     "data": {
      "text/html": [
       "<div>\n",
       "<style scoped>\n",
       "    .dataframe tbody tr th:only-of-type {\n",
       "        vertical-align: middle;\n",
       "    }\n",
       "\n",
       "    .dataframe tbody tr th {\n",
       "        vertical-align: top;\n",
       "    }\n",
       "\n",
       "    .dataframe thead th {\n",
       "        text-align: right;\n",
       "    }\n",
       "</style>\n",
       "<table border=\"1\" class=\"dataframe\">\n",
       "  <thead>\n",
       "    <tr style=\"text-align: right;\">\n",
       "      <th></th>\n",
       "      <th>selling_price</th>\n",
       "      <th>profit</th>\n",
       "    </tr>\n",
       "  </thead>\n",
       "  <tbody>\n",
       "    <tr>\n",
       "      <th>0</th>\n",
       "      <td>80</td>\n",
       "      <td>-54680.0</td>\n",
       "    </tr>\n",
       "    <tr>\n",
       "      <th>1</th>\n",
       "      <td>90</td>\n",
       "      <td>-27360.0</td>\n",
       "    </tr>\n",
       "    <tr>\n",
       "      <th>2</th>\n",
       "      <td>100</td>\n",
       "      <td>-5000.0</td>\n",
       "    </tr>\n",
       "    <tr>\n",
       "      <th>3</th>\n",
       "      <td>110</td>\n",
       "      <td>12760.0</td>\n",
       "    </tr>\n",
       "    <tr>\n",
       "      <th>4</th>\n",
       "      <td>120</td>\n",
       "      <td>26280.0</td>\n",
       "    </tr>\n",
       "    <tr>\n",
       "      <th>5</th>\n",
       "      <td>130</td>\n",
       "      <td>35920.0</td>\n",
       "    </tr>\n",
       "    <tr>\n",
       "      <th>6</th>\n",
       "      <td>140</td>\n",
       "      <td>42040.0</td>\n",
       "    </tr>\n",
       "    <tr>\n",
       "      <th>7</th>\n",
       "      <td>150</td>\n",
       "      <td>45000.0</td>\n",
       "    </tr>\n",
       "    <tr>\n",
       "      <th>8</th>\n",
       "      <td>160</td>\n",
       "      <td>45160.0</td>\n",
       "    </tr>\n",
       "    <tr>\n",
       "      <th>9</th>\n",
       "      <td>170</td>\n",
       "      <td>42880.0</td>\n",
       "    </tr>\n",
       "    <tr>\n",
       "      <th>10</th>\n",
       "      <td>180</td>\n",
       "      <td>38520.0</td>\n",
       "    </tr>\n",
       "    <tr>\n",
       "      <th>11</th>\n",
       "      <td>190</td>\n",
       "      <td>32440.0</td>\n",
       "    </tr>\n",
       "    <tr>\n",
       "      <th>12</th>\n",
       "      <td>200</td>\n",
       "      <td>25000.0</td>\n",
       "    </tr>\n",
       "    <tr>\n",
       "      <th>13</th>\n",
       "      <td>210</td>\n",
       "      <td>16560.0</td>\n",
       "    </tr>\n",
       "    <tr>\n",
       "      <th>14</th>\n",
       "      <td>220</td>\n",
       "      <td>7480.0</td>\n",
       "    </tr>\n",
       "    <tr>\n",
       "      <th>15</th>\n",
       "      <td>230</td>\n",
       "      <td>-1880.0</td>\n",
       "    </tr>\n",
       "    <tr>\n",
       "      <th>16</th>\n",
       "      <td>240</td>\n",
       "      <td>-11160.0</td>\n",
       "    </tr>\n",
       "    <tr>\n",
       "      <th>17</th>\n",
       "      <td>250</td>\n",
       "      <td>-20000.0</td>\n",
       "    </tr>\n",
       "  </tbody>\n",
       "</table>\n",
       "</div>"
      ],
      "text/plain": [
       "    selling_price   profit\n",
       "0              80 -54680.0\n",
       "1              90 -27360.0\n",
       "2             100  -5000.0\n",
       "3             110  12760.0\n",
       "4             120  26280.0\n",
       "5             130  35920.0\n",
       "6             140  42040.0\n",
       "7             150  45000.0\n",
       "8             160  45160.0\n",
       "9             170  42880.0\n",
       "10            180  38520.0\n",
       "11            190  32440.0\n",
       "12            200  25000.0\n",
       "13            210  16560.0\n",
       "14            220   7480.0\n",
       "15            230  -1880.0\n",
       "16            240 -11160.0\n",
       "17            250 -20000.0"
      ]
     },
     "execution_count": 59,
     "metadata": {},
     "output_type": "execute_result"
    }
   ],
   "source": [
    "dt_param_ranges_1 = {'selling_price': np.arange(80, 251, 10)}\n",
    "\n",
    "# Specify desired outputs (list)\n",
    "outputs = ['profit']\n",
    "\n",
    "df_1_way = base_model.data_table(dt_param_ranges_1, outputs)\n",
    "df_1_way"
   ]
  },
  {
   "cell_type": "markdown",
   "id": "452cb17a",
   "metadata": {},
   "source": [
    "# explain..."
   ]
  },
  {
   "cell_type": "code",
   "execution_count": 73,
   "id": "4265d2b1",
   "metadata": {},
   "outputs": [
    {
     "data": {
      "image/png": "[encoded data removed]",
      "text/plain": [
       "<Figure size 576x432 with 1 Axes>"
      ]
     },
     "metadata": {
      "needs_background": "light"
     },
     "output_type": "display_data"
    }
   ],
   "source": [
    "fig = plt.figure(figsize=(8,6))\n",
    "ax1 = fig.add_subplot()\n",
    "ax1.set_ylabel(\"Profit\")\n",
    "ax1.set_xlabel(\"Selling Price\")\n",
    "ax1.plot(df_1_way['selling_price'], df_1_way['profit'], color = 'yellow', label = 'Profit')\n",
    "plt.axhline(y=0, color='red', linestyle='-')\n",
    "\n",
    "plt.axvline(x=102.5, color='blue', linestyle='--')\n",
    "plt.axvline(x=227, color='blue', linestyle='--')\n",
    "#ax2.plot(selling_price, demand, color = 'blue', label = 'Demand')\n",
    "fig.autofmt_xdate()\n",
    "\n",
    "ax1.legend()\n",
    "plt.title(\"Breakeven Points\")\n",
    "plt.show()"
   ]
  },
  {
   "cell_type": "markdown",
   "id": "bdb4d3ef",
   "metadata": {},
   "source": [
    "For the given ranges of selling price the value of profit gets below the breakeven point twice. Plus the goal seek funtion from whatif package only returns one goal seeks and empty oterwise\n",
    "\n",
    "\n",
    "\n",
    "Returns\n",
    "\n",
    "        -------\n",
    "        \n",
    "        x_N : number\n",
    "        \n",
    "            The midpoint of the Nth interval computed by the bisection method. The\n",
    "            initial interval [a_0,b_0] is given by [a,b]. If f(m_n) - target == 0 for some\n",
    "            midpoint m_n = (a_n + b_n)/2, then the function returns this solution.\n",
    "            If all signs of values f(a_n), f(b_n) and f(m_n) are the same at any\n",
    "            iteration, the bisection method fails and return None."
   ]
  },
  {
   "cell_type": "markdown",
   "id": "656db33f",
   "metadata": {},
   "source": [
    "# 1f – Simulation)\n",
    "\n",
    "Let’s add some uncertainty to the variable cost. Specifically, let’s model it with a uniform distribution between (80, 120). \n",
    "\n",
    "Use our simulate function to simulate this and answer the following questions:\n",
    "\n"
   ]
  },
  {
   "cell_type": "code",
   "execution_count": 77,
   "id": "563dbd24",
   "metadata": {},
   "outputs": [],
   "source": [
    "rg = default_rng(4470)"
   ]
  },
  {
   "cell_type": "code",
   "execution_count": 82,
   "id": "14418a0d",
   "metadata": {},
   "outputs": [],
   "source": [
    "random_inputs = {'variable_cost': rg.uniform(80, 120, 100)}\n",
    "\n",
    "\n",
    "sim_outputs = ['profit']\n",
    "\n",
    "scenario_inputs = {'selling_price': np.arange(80, 141, 10)}\n",
    "\n",
    "\n",
    "model_simulate = base_model.simulate(random_inputs, sim_outputs, scenario_inputs)\n",
    "\n"
   ]
  },
  {
   "cell_type": "code",
   "execution_count": 83,
   "id": "776dd751",
   "metadata": {},
   "outputs": [
    {
     "name": "stdout",
     "output_type": "stream",
     "text": [
      "[{'scenario_base_vals': {'fixed_cost': 5000, 'variable_cost': 100, 'selling_price': array([ 80,  90, 100, 110, 120, 130, 140]), 'spf_constant': 4900, 'spf_linear': -35, 'spf_quadratic': 0.06}, 'scenario_num': 0, 'scenario_vals': {'selling_price': 80}, 'output': {'profit': array([ -66070.48383621,  -44290.22876623,  -86865.2139714 ,\n",
      "        -34781.85708232,  -49255.21031578,  -99840.13332579,\n",
      "        -60929.20147715,  -79027.39954499,  -74170.23035161,\n",
      "        -82650.22795498,  -80822.92613338,  -67107.82154411,\n",
      "       -100675.06504077,  -48780.12742434,  -92454.5639438 ,\n",
      "        -28685.81771329,   -9501.54231522, -101642.00852009,\n",
      "        -10715.60721179,  -33213.9545564 ,  -87736.86327767,\n",
      "        -94464.609821  ,  -81351.44831287,  -82926.88977737,\n",
      "        -82715.66178588,   -8248.16184974,  -73213.98690341,\n",
      "        -46511.99481487,  -78007.67942897, -102360.50276528,\n",
      "        -10517.73450864,  -57040.91014703,  -44280.71610069,\n",
      "        -98938.14724212,  -93757.44538114, -100284.99643556,\n",
      "        -83256.30026887,  -34795.46807213,  -82601.92442562,\n",
      "       -100314.32702543,  -71794.92585453,  -24706.4578543 ,\n",
      "        -35175.60305259,  -15593.9907556 ,  -37511.90197404,\n",
      "        -14292.23160641,  -12343.75830843,  -20115.49875623,\n",
      "       -102008.55484101,  -27547.61117779,  -45326.30482267,\n",
      "        -58561.95650967,  -17784.55672182,  -90472.87294143,\n",
      "        -46730.67301579,  -25670.33569633,  -17476.37164084,\n",
      "        -49817.13036537,  -65931.94514722,  -73309.43349773,\n",
      "        -38342.71181516,  -61365.88788913,  -34576.62866871,\n",
      "        -35174.34791888,  -33658.73824655,  -75383.09309737,\n",
      "        -26568.0057528 ,  -84782.12671841,  -75064.19224977,\n",
      "        -85245.94589732,  -39001.54594248,  -46447.68979901,\n",
      "        -50924.93125719,  -76156.85178664,  -79756.83137627,\n",
      "        -50408.78581264,  -98160.93540921,  -74609.65887735,\n",
      "        -64389.42180494,  -10195.86525007,  -68886.20947619,\n",
      "       -101689.09804895,  -53021.47750195,  -86507.06577758,\n",
      "         -7832.69596458,  -80603.75350137,  -87109.92969192,\n",
      "       -101053.13687773,  -53954.93721025,   -6935.54451332,\n",
      "        -68994.44079492,  -64675.45692315,  -72001.96122313,\n",
      "        -11178.17379593,  -18550.31921876,  -71495.53605103,\n",
      "        -52646.1802642 ,  -15262.77861154,  -56974.01719138,\n",
      "        -71234.48717132])}}, {'scenario_base_vals': {'fixed_cost': 5000, 'variable_cost': 100, 'selling_price': array([ 80,  90, 100, 110, 120, 130, 140]), 'spf_constant': 4900, 'spf_linear': -35, 'spf_quadratic': 0.06}, 'scenario_num': 1, 'scenario_vals': {'selling_price': 90}, 'output': {'profit': array([-37613.26966899, -18007.53281855, -56331.87537844,  -9448.46716428,\n",
      "       -22476.81572708, -68011.39215639, -32985.28764207, -49276.58026675,\n",
      "       -44904.34583985, -52537.70922195, -50892.84333101, -38547.04064921,\n",
      "       -68762.96514942, -22049.16462191, -61363.19040996,  -3961.0500833 ,\n",
      "        13307.88703026, -69633.3699883 ,  12215.03312176,  -8037.10241067,\n",
      "       -57116.5001163 , -63172.55537833, -51368.59840079, -52786.74941312,\n",
      "       -52596.61020661,  14436.1312818 , -44043.57275202, -20007.48003464,\n",
      "       -48358.66795619, -70280.13050852,  12393.15041815, -29485.19931109,\n",
      "       -17998.96988774, -67199.45943373, -62535.99350734, -68411.84059176,\n",
      "       -53083.27190064,  -9460.71924689, -52494.22826719, -68438.24284576,\n",
      "       -42766.18929578,   -378.98541152,  -9802.90194267,   7823.70236332,\n",
      "       -11905.94718758,   8995.49522064,  10749.43495264,   3753.61706162,\n",
      "       -69963.3207023 ,  -2936.48091528, -18940.1681093 , -30854.38597247,\n",
      "         5851.84024558, -59579.34939494, -20204.32562935,  -1246.63068317,\n",
      "         6129.25644569, -22982.63425804, -37488.56253993, -44129.49005673,\n",
      "       -12653.80983039, -33378.37573273,  -9263.72854398,  -9801.77212022,\n",
      "        -8437.47935559, -45996.11761905,  -2054.67828633, -54456.76140997,\n",
      "       -45709.05550342, -54874.27336007, -13246.86663743, -19949.59516529,\n",
      "       -23979.83345051, -46692.62503822, -49933.18637574, -23515.21943521,\n",
      "       -66499.84362923, -45299.90227446, -36100.04313842,  12682.88458166,\n",
      "       -40147.87616294, -69675.75814713, -25867.06267889, -56009.48433119,\n",
      "        14810.11748116, -50695.5526687 , -56552.15893363, -69103.29068382,\n",
      "       -26707.32673193,  15617.69825613, -40245.30177836, -36357.52080522,\n",
      "       -42952.55446655,  11798.64870866,   5162.53068713, -42496.69026172,\n",
      "       -25529.23473057,   8121.84662826, -29424.9848792 , -42261.70423312])}}, {'scenario_base_vals': {'fixed_cost': 5000, 'variable_cost': 100, 'selling_price': array([ 80,  90, 100, 110, 120, 130, 140]), 'spf_constant': 4900, 'spf_linear': -35, 'spf_quadratic': 0.06}, 'scenario_num': 2, 'scenario_vals': {'selling_price': 100}, 'output': {'profit': array([-14171.08199373,   3365.35526068, -30914.02091095,  11021.04904805,\n",
      "         -632.21442494, -41360.81588228, -10031.56318611, -24603.38127616,\n",
      "       -20692.61703028, -27520.31236311, -26049.05485779, -15006.29753954,\n",
      "       -42033.06363991,   -249.7000196 , -35414.30269227,  15929.29330653,\n",
      "        31375.56979451, -42811.60106288,  30398.06182626,  12283.45043768,\n",
      "       -31615.8319466 , -37032.69711836, -26474.59606511, -27743.0674536 ,\n",
      "       -27572.99660699,  32384.73281019, -19922.69476925,   1576.49370783,\n",
      "       -23782.35058693, -43390.09884483,  30557.37962268,  -6900.89383819,\n",
      "         3373.01441168, -40634.57909994, -36463.32156291, -41718.99874039,\n",
      "       -28008.29329217,  11010.09011906, -27481.42063255, -41742.6143522 ,\n",
      "       -18780.13353827,  19133.28675177,  10704.0233071 ,  26470.21678293,\n",
      "         8822.9452705 ,  27518.33203993,  29087.15112043,  22829.71114635,\n",
      "       -43106.72692513,  16845.72368938,   2531.1555373 ,  -8125.56884837,\n",
      "        24706.47606939, -33818.73827813,   1400.4243029 ,  18357.21763581,\n",
      "        24954.61220545,  -1084.64602687, -14059.53715557, -19999.54387901,\n",
      "         8154.01625189, -10383.16255163,  11186.28931665,  10705.03388174,\n",
      "        11925.33152452, -21669.15708323,  17634.45591562, -29236.81700355,\n",
      "       -21412.39311576, -29610.2623972 ,   7623.55399156,   1628.26908292,\n",
      "        -1976.59521513, -22292.15119697, -25190.68548814,  -1561.01917282,\n",
      "       -40008.8046773 , -21046.42421687, -12817.56989125,  30816.53361508,\n",
      "       -16438.17188099, -42849.51533732,  -3664.63566985, -30625.65682575,\n",
      "        32719.24640533, -25872.5873602 , -31111.05450235, -42337.46930574,\n",
      "        -4416.21353483,  33441.59056899, -16525.3146497 , -13047.8719188 ,\n",
      "       -18946.82868207,  30025.62496302,  24089.92011372, -18539.07894608,\n",
      "        -3362.46398084,  26736.89322743,  -6847.03477567, -18328.8946629 ])}}, {'scenario_base_vals': {'fixed_cost': 5000, 'variable_cost': 100, 'selling_price': array([ 80,  90, 100, 110, 120, 130, 140]), 'spf_constant': 4900, 'spf_linear': -35, 'spf_quadratic': 0.06}, 'scenario_num': 3, 'scenario_vals': {'selling_price': 110}, 'output': {'profit': array([  4616.07918957,  20188.43547149, -10251.65056892,  26986.69155467,\n",
      "        16638.59359065, -19528.40450347,   8291.97189074,  -4647.80257323,\n",
      "        -1175.04392289,  -7238.03737844,  -5931.56071372,   3874.40778489,\n",
      "       -20125.36051224,  16978.2663826 , -14247.90079074,  31345.2124562 ,\n",
      "        45061.50597752, -20816.70174383,  44193.47890172,  28107.70398866,\n",
      "       -10874.85876858, -15685.0350411 ,  -6309.44130582,  -7435.84389879,\n",
      "        -7284.82098701,  45957.64273545,   -491.35295509,  18599.92641256,\n",
      "        -3918.7273212 , -21330.40777421,  44334.95310494,  11072.00627169,\n",
      "        20195.23679758, -18883.50624074, -15179.42954787, -19846.47088147,\n",
      "        -7671.36444344,  26976.96002573,  -7203.5015217 , -19867.44154475,\n",
      "          523.24141802,  34190.35863558,  26705.1726967 ,  40705.55250324,\n",
      "        25034.7754002 ,  41636.27885145,  43029.39019494,  37472.78349796,\n",
      "       -21078.77350952,  32159.00263617,  19447.66611712,   9984.49486265,\n",
      "        39139.35074962, -12831.03959098,  18443.57678098,  33501.2092606 ,\n",
      "        39359.69563844,  16236.83432814,   4715.13100585,   -559.59496456,\n",
      "        24440.76643168,   7979.75165415,  27133.42491319,  26706.07008698,\n",
      "        27789.69439377,  -2042.2114899 ,  32859.39685307,  -8762.29349915,\n",
      "        -1814.20508679,  -9093.91300871,  23969.71594451,  18645.90294564,\n",
      "        15444.78344897,  -2595.43026291,  -5169.32871347,  15813.81497454,\n",
      "       -18327.81855345,  -1489.22470458,   5817.99793657,  44565.08185019,\n",
      "         2602.90336968, -20850.36961954,  13945.80352518,  -9995.58326126,\n",
      "        46254.69080793,  -5774.85757586, -10426.61639809, -20395.6727435 ,\n",
      "        13278.40238108,  46896.13242526,   2525.52059107,   5613.4897361 ,\n",
      "          375.21613032,  43862.75496716,  38591.84906098,    737.29789588,\n",
      "        14214.13198502,  40942.36118595,  11119.8331192 ,    923.94153935])}}, {'scenario_base_vals': {'fixed_cost': 5000, 'variable_cost': 100, 'selling_price': array([ 80,  90, 100, 110, 120, 130, 140]), 'spf_constant': 4900, 'spf_linear': -35, 'spf_quadratic': 0.06}, 'scenario_num': 4, 'scenario_vals': {'selling_price': 120}, 'output': {'profit': array([19108.2138809 , 32821.70781386,  6015.23564764, 38808.46035557,\n",
      "       29695.6083197 , -2154.15801994, 22345.31758846, 10950.15584204,\n",
      "       14008.37348232,  8669.11573205,  9819.6391012 , 18455.07532408,\n",
      "       -2679.85576641, 29994.73458468,  2496.01529464, 42646.70736571,\n",
      "       54725.6955793 , -3288.67203117, 53961.28434813, 39795.65824227,\n",
      "        5466.41941776,  1230.43085344,  9486.86587708,  8494.92125129,\n",
      "        8627.91665334, 55514.86105757, 14610.45269045, 31422.81807952,\n",
      "       11592.20184102, -3741.05729665, 54085.87086493, 24793.50101854,\n",
      "       32827.69726994, -1586.24085615,  1675.6825378 , -2434.25701499,\n",
      "        8287.51464553, 38799.8904731 ,  8699.52906535, -2452.72442342,\n",
      "       15503.93557307, 45152.23023989, 38560.54622615, 50889.70952425,\n",
      "       37089.54320153, 51709.33565522, 52936.15217617, 48042.83411645,\n",
      "       -3519.46045545, 43363.35592509, 32169.36363017, 23835.80516058,\n",
      "       49510.46428626,  3743.74666651, 31285.13180487, 44545.3441912 ,\n",
      "       49704.50674466, 29341.80680699, 19195.44194434, 14550.35668662,\n",
      "       36566.44070898, 22070.36688462, 38937.67824562, 38561.33649552,\n",
      "       39515.60925217, 13244.71916092, 43980.14452602,  7326.80910322,\n",
      "       13445.50858348,  7034.77480539, 36151.6192214 , 31463.30642285,\n",
      "       28644.30254177, 12757.53776397, 10490.88394827, 28969.28300686,\n",
      "       -1096.88525765, 13731.69626241, 20166.66034504, 54288.52928699,\n",
      "       17335.34958907, -3318.32099379, 27324.25490618,  6240.73636227,\n",
      "       55776.45068897,  9957.63668432,  5861.15537916, -2917.90099709,\n",
      "       26736.52101577, 56341.32382495, 17267.20394394, 19986.5641595 ,\n",
      "       15373.57997062, 53670.03872108, 49028.31752893, 15692.44026417,\n",
      "       27560.55316699, 51098.25050385, 24835.61880543, 15856.80437361])}}, {'scenario_base_vals': {'fixed_cost': 5000, 'variable_cost': 100, 'selling_price': array([ 80,  90, 100, 110, 120, 130, 140]), 'spf_constant': 4900, 'spf_linear': -35, 'spf_quadratic': 0.06}, 'scenario_num': 5, 'scenario_vals': {'selling_price': 130}, 'output': {'profit': array([29665.32208028, 41625.17228779, 18246.63773873, 46846.35545077,\n",
      "       38898.82976219, 11121.92356828, 32488.47390707, 22550.49396966,\n",
      "       25217.63518535, 20561.14696836, 21564.54458698, 29095.70507803,\n",
      "       10663.45059758, 39159.70458664, 15177.44556387, 50193.77803505,\n",
      "       60728.13859985, 10132.48807512, 60061.47816551, 47707.3131985 ,\n",
      "       17768.00261242, 14073.70056528, 21274.32548359, 20409.22799665,\n",
      "       20525.21631403, 61416.38777655, 25742.72216737, 40405.16870874,\n",
      "       23110.43689971,  9737.95258783, 60170.13290266, 34623.59040236,\n",
      "       41630.39582877, 11617.21705384, 14462.01469409, 10877.64285905,\n",
      "       20228.34397474, 46838.8814612 , 20587.6711286 , 10861.5370118 ,\n",
      "       26521.9489269 , 52378.90156471, 46630.14389544, 57382.68784596,\n",
      "       45347.24867448, 58097.50245123, 59167.43706413, 54899.86300181,\n",
      "        9931.21223706, 50818.78355616, 41056.24807644, 33788.36204541,\n",
      "       56179.81667932, 16265.62049432, 40285.08937458, 51849.62242762,\n",
      "       56349.04552411, 38590.27140968, 29741.3956599 , 25690.31107452,\n",
      "       44891.03908379, 32248.68313979, 46959.04931396, 46630.83310734,\n",
      "       47463.07609972, 24551.63486924, 51356.69893445, 19390.49080358,\n",
      "       24726.74789505, 19135.80104511, 44529.26382224, 40440.47951455,\n",
      "       37981.96206328, 24126.75288366, 22149.95249709, 38265.38492414,\n",
      "       12043.99521008, 24976.3386841 , 30588.41733417, 60346.87592548,\n",
      "       28119.16677717, 10106.63053995, 36830.71847316, 18443.30204484,\n",
      "       61644.52604843, 21684.89542034, 18112.2608294 , 10455.84593348,\n",
      "       36318.14236925, 62137.16476805, 28059.73540891, 30431.35135138,\n",
      "       26408.26283883, 59807.47622478, 55759.32551755, 26686.34815877,\n",
      "       37036.79956507, 57564.5611811 , 34660.32228299, 26829.6938399 ])}}, {'scenario_base_vals': {'fixed_cost': 5000, 'variable_cost': 100, 'selling_price': array([ 80,  90, 100, 110, 120, 130, 140]), 'spf_constant': 4900, 'spf_linear': -35, 'spf_quadratic': 0.06}, 'scenario_num': 6, 'scenario_vals': {'selling_price': 140}, 'output': {'profit': array([36647.40378769, 46958.82889328, 26802.55570436, 51460.37684025,\n",
      "       44608.25791814, 20659.84026122, 39081.44084657, 30513.21180962,\n",
      "       32812.7411862 , 28798.05633049, 29663.15574362, 36156.29704675,\n",
      "       20264.55857973, 44833.17638848, 24156.39001695, 54346.42446424,\n",
      "       63428.83503917, 19806.77857503, 62854.06035384, 52202.66885736,\n",
      "       26389.8908154 , 23204.7740944 , 29412.93751371, 28667.07633729,\n",
      "       28767.07799509, 64022.22289239, 33265.45547568, 45906.97830021,\n",
      "       30995.97785488, 19466.62187924, 62947.73921813, 40922.27442315,\n",
      "       46963.33247407, 21086.86748924, 23539.56692101, 20449.22874065,\n",
      "       28511.12354421, 51453.93299001, 28820.92466806, 20435.34276091,\n",
      "       33937.2814795 , 56230.37261004, 51273.96570457, 60544.48746836,\n",
      "       50167.89181905, 61160.77923948, 62083.24485881, 58403.87015405,\n",
      "       19633.24456802, 54885.28552935, 46468.31945593, 40202.16551716,\n",
      "       59507.4079288 , 25094.58189246, 45803.44949011, 55774.04396985,\n",
      "       59653.3119768 , 44342.2281362 , 36712.99215253, 33220.26819914,\n",
      "       49774.56155611, 38874.70041964, 51557.53811819, 51274.55992246,\n",
      "       51992.09493642, 32238.53563506, 55349.06007839, 27788.75160191,\n",
      "       32389.51284793, 27569.16571045, 49462.64974704, 45937.42222076,\n",
      "       43817.76201351, 31872.21509618, 30167.87693297, 44062.12072638,\n",
      "       21454.82284975, 32604.70256048, 37443.26890394, 63100.12176567,\n",
      "       35314.35493398, 19784.48498166, 42825.19422613, 26972.11378646,\n",
      "       64218.91688633, 29766.9186322 , 26686.69995262, 20085.56804822,\n",
      "       42383.26644152, 64643.65525456, 35263.11498598, 37307.85131174,\n",
      "       33839.26473494, 62635.06747826, 59144.87302687, 34079.02157971,\n",
      "       43002.87117927, 60701.29321773, 40953.94355191, 34202.60993822])}}]\n"
     ]
    }
   ],
   "source": [
    "print(model_simulate)"
   ]
  },
  {
   "cell_type": "markdown",
   "id": "0170b2c8",
   "metadata": {},
   "source": [
    "1)\tCreate a histogram of profit"
   ]
  },
  {
   "cell_type": "code",
   "execution_count": 84,
   "id": "90036feb",
   "metadata": {},
   "outputs": [],
   "source": [
    "def get_sim_results_df(results):\n",
    "    \n",
    "    dfs = []    \n",
    "    for r in results:\n",
    "        df = pd.DataFrame(r['output'])\n",
    "        df['scenario_num'] = r['scenario_num']\n",
    "        for key, val in r['scenario_vals'].items():\n",
    "            df[key] = val\n",
    "            \n",
    "        dfs.append(df)\n",
    "\n",
    "    results_df = pd.concat(dfs)\n",
    "    \n",
    "    return results_df"
   ]
  },
  {
   "cell_type": "code",
   "execution_count": 85,
   "id": "2cd06e8b",
   "metadata": {},
   "outputs": [],
   "source": [
    "model2_results_df = get_sim_results_df(model_simulate)"
   ]
  },
  {
   "cell_type": "code",
   "execution_count": 86,
   "id": "ec19664c",
   "metadata": {},
   "outputs": [
    {
     "name": "stdout",
     "output_type": "stream",
     "text": [
      "          profit  scenario_num  selling_price\n",
      "0  -66070.483836             0             80\n",
      "1  -44290.228766             0             80\n",
      "2  -86865.213971             0             80\n",
      "3  -34781.857082             0             80\n",
      "4  -49255.210316             0             80\n",
      "..           ...           ...            ...\n",
      "95  34079.021580             6            140\n",
      "96  43002.871179             6            140\n",
      "97  60701.293218             6            140\n",
      "98  40953.943552             6            140\n",
      "99  34202.609938             6            140\n",
      "\n",
      "[700 rows x 3 columns]\n"
     ]
    }
   ],
   "source": [
    "print(model2_results_df)"
   ]
  },
  {
   "cell_type": "code",
   "execution_count": 88,
   "id": "c87ddaba",
   "metadata": {},
   "outputs": [
    {
     "data": {
      "image/png": "[encoded data removed]",
      "text/plain": [
       "<Figure size 864x432 with 7 Axes>"
      ]
     },
     "metadata": {
      "needs_background": "light"
     },
     "output_type": "display_data"
    }
   ],
   "source": [
    "profit_histogram = sns.FacetGrid(model2_results_df, col='selling_price', sharey=True, col_wrap=4)\n",
    "profit_histogram = profit_histogram.map(plt.hist, \"profit\")"
   ]
  },
  {
   "cell_type": "markdown",
   "id": "882a8ba3",
   "metadata": {},
   "source": [
    "2)\tWhat is the probability that profit is negative based on our simulation?"
   ]
  },
  {
   "cell_type": "code",
   "execution_count": 93,
   "id": "265b3ad1",
   "metadata": {},
   "outputs": [],
   "source": [
    "negative_profit_count = model2_results_df[model2_results_df.profit < 0].count()['profit']"
   ]
  },
  {
   "cell_type": "code",
   "execution_count": 94,
   "id": "05630e79",
   "metadata": {},
   "outputs": [],
   "source": [
    "total_count = model2_results_df.count()['profit']"
   ]
  },
  {
   "cell_type": "code",
   "execution_count": 95,
   "id": "2cbede82",
   "metadata": {},
   "outputs": [
    {
     "data": {
      "text/plain": [
       "0.42428571428571427"
      ]
     },
     "execution_count": 95,
     "metadata": {},
     "output_type": "execute_result"
    }
   ],
   "source": [
    "probability = negative_profit_count/total_count\n",
    "probability"
   ]
  },
  {
   "cell_type": "markdown",
   "id": "7f6b8718",
   "metadata": {},
   "source": [
    "So there is a 42% chance that we might have a loss."
   ]
  },
  {
   "cell_type": "code",
   "execution_count": null,
   "id": "c7afc060",
   "metadata": {},
   "outputs": [],
   "source": []
  }
 ],
 "metadata": {
  "kernelspec": {
   "display_name": "Python 3 (ipykernel)",
   "language": "python",
   "name": "python3"
  },
  "language_info": {
   "codemirror_mode": {
    "name": "ipython",
    "version": 3
   },
   "file_extension": ".py",
   "mimetype": "text/x-python",
   "name": "python",
   "nbconvert_exporter": "python",
   "pygments_lexer": "ipython3",
   "version": "3.9.7"
  }
 },
 "nbformat": 4,
 "nbformat_minor": 5
}
